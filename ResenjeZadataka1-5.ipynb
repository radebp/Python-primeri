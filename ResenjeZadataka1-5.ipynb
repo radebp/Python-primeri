{
 "cells": [
  {
   "cell_type": "markdown",
   "metadata": {},
   "source": [
    "## Решење задатака од 1 до 5"
   ]
  },
  {
   "cell_type": "markdown",
   "metadata": {},
   "source": [
    "### 1. задатак\n",
    "Написати програм (скрипт) који тражи од корисника да  унесе име и годину рођења. Исписати поруку у облику:<br>\n",
    "Dobar dan <span style=\"color:blue\">***ime***</span>, vi imate <span style=\"color:blue\">***xx***</span> godina.\n",
    "    "
   ]
  },
  {
   "cell_type": "code",
   "execution_count": 1,
   "metadata": {
    "collapsed": false,
    "scrolled": true
   },
   "outputs": [
    {
     "name": "stdout",
     "output_type": "stream",
     "text": [
      "Unesite vaše ime: Jelena Jelić\n",
      "Unesite godinu rođenja 2001\n",
      "Dobar dan Jelena Jelić, vi imate 16 godina.\n"
     ]
    }
   ],
   "source": [
    "ime = input('Unesite vaše ime: ')\n",
    "godrodj = int(input('Unesite godinu rođenja '))\n",
    "print('Dobar dan {}, vi imate {} godina.' .format(ime, 2017-godrodj))"
   ]
  },
  {
   "cell_type": "markdown",
   "metadata": {},
   "source": [
    "### 2. задатак\n",
    "Написати програм (скрипт) у коме се уноси три броја и исписује средња вредност у облику:<br>\n",
    "    Srednja vrednost brojeva ***x***, ***x*** i ***x*** iznosi ***x.xx***."
   ]
  },
  {
   "cell_type": "code",
   "execution_count": 1,
   "metadata": {
    "collapsed": false
   },
   "outputs": [
    {
     "name": "stdout",
     "output_type": "stream",
     "text": [
      "Unesite prvi broj 5\n",
      "Unesite drugi broj 8\n",
      "Unesite treći broj 9\n",
      "Srednja vrednost brojeva 5, 8 i 9 iznosi 7.33\n"
     ]
    }
   ],
   "source": [
    "br1 = int(input('Unesite prvi broj '))\n",
    "br2 = int(input('Unesite drugi broj '))\n",
    "br3 = int(input('Unesite treći broj '))\n",
    "sv = (br1 + br2 + br3) / 3\n",
    "print('Srednja vrednost brojeva {}, {} i {} iznosi {:.2f}' .format(br1, br2, br3 , sv))"
   ]
  },
  {
   "cell_type": "markdown",
   "metadata": {},
   "source": [
    "### 3. задатак\n",
    "Написати програм у коме се уноси три броја и исписује број, квадрат, куб и корен у облику:<br>\n",
    "![](slike/brkvkubkoren.PNG)"
   ]
  },
  {
   "cell_type": "code",
   "execution_count": 3,
   "metadata": {
    "collapsed": false
   },
   "outputs": [
    {
     "name": "stdout",
     "output_type": "stream",
     "text": [
      "Unesite prvi broj 4\n",
      "Unesite drugi broj 7\n",
      "Unesite treći broj 9\n",
      "\n",
      "BROJ     KVADRAT     KUB        KOREN\n",
      "======================================\n",
      " 4\t   16\t      64\t2.00\n",
      " 7\t   49\t     196\t2.65\n",
      " 9\t   81\t     729\t3.00\n"
     ]
    }
   ],
   "source": [
    "import math\n",
    "br1 = int(input('Unesite prvi broj: '))\n",
    "br2 = int(input('Unesite drugi broj: '))\n",
    "br3 = int(input('Unesite treći broj: '))\n",
    "print('\\nBROJ     KVADRAT     KUB        KOREN')\n",
    "print('======================================')\n",
    "print(' {}\\t{:5}\\t{:8}\\t{:.2f}' .format(br1, br1*br1, br1*br1*br1, math.sqrt(br1)))\n",
    "print(' {}\\t{:5}\\t{:8}\\t{:.2f}' .format(br2, br2*br2, br1*br2*br2, math.sqrt(br2)))\n",
    "print(' {}\\t{:5}\\t{:8}\\t{:.2f}' .format(br3, br3*br3, br3*br3*br3, math.sqrt(br3)))"
   ]
  },
  {
   "cell_type": "code",
   "execution_count": null,
   "metadata": {
    "collapsed": true
   },
   "outputs": [],
   "source": []
  }
 ],
 "metadata": {
  "kernelspec": {
   "display_name": "Python 3",
   "language": "python",
   "name": "python3"
  },
  "language_info": {
   "codemirror_mode": {
    "name": "ipython",
    "version": 3
   },
   "file_extension": ".py",
   "mimetype": "text/x-python",
   "name": "python",
   "nbconvert_exporter": "python",
   "pygments_lexer": "ipython3",
   "version": "3.6.0"
  }
 },
 "nbformat": 4,
 "nbformat_minor": 2
}

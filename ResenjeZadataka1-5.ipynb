{
 "cells": [
  {
   "cell_type": "markdown",
   "metadata": {},
   "source": [
    "## Решење задатака од 1 до 5"
   ]
  },
  {
   "cell_type": "markdown",
   "metadata": {},
   "source": [
    "### 1. задатак\n",
    "Написати програм (скрипт) који тражи од корисника да  унесе име и годину рођења. Исписати поруку у облику:<br>\n",
    "Dobar dan <span style=\"color:blue\">***ime***</span>, vi imate <span style=\"color:blue\">***xx***</span> godina.\n",
    "    "
   ]
  },
  {
   "cell_type": "code",
   "execution_count": 1,
   "metadata": {
    "collapsed": false,
    "scrolled": true
   },
   "outputs": [
    {
     "name": "stdout",
     "output_type": "stream",
     "text": [
      "Unesite vaše ime: Jelena Petrović\n",
      "Unesite godinu rođenja 2001\n",
      "Dobar dan Jelena Petrović, vi imate 16 godina.\n"
     ]
    }
   ],
   "source": [
    "ime = input('Unesite vaše ime: ')\n",
    "godrodj = int(input('Unesite godinu rođenja '))\n",
    "print('Dobar dan {}, vi imate {} godina.' .format(ime, 2017-godrodj))"
   ]
  },
  {
   "cell_type": "markdown",
   "metadata": {},
   "source": [
    "### 2. задатак\n",
    "Написати програм (скрипт) у коме се уноси три броја и исписује средња вредност у облику:<br>\n",
    "    Srednja vrednost brojeva ***x***, ***x*** i ***x*** iznosi ***x.xx***."
   ]
  },
  {
   "cell_type": "code",
   "execution_count": 2,
   "metadata": {
    "collapsed": false
   },
   "outputs": [
    {
     "name": "stdout",
     "output_type": "stream",
     "text": [
      "Unesite prvi broj 5\n",
      "Unesite drugi broj 8\n",
      "Unesite treći broj 7\n",
      "Srednja vrednost brojeva 5, 8 i 7 iznosi 6.67\n"
     ]
    }
   ],
   "source": [
    "br1 = int(input('Unesite prvi broj '))\n",
    "br2 = int(input('Unesite drugi broj '))\n",
    "br3 = int(input('Unesite treći broj '))\n",
    "sv = (br1 + br2 + br3) / 3\n",
    "print('Srednja vrednost brojeva {}, {} i {} iznosi {:.2f}' .format(br1, br2, br3 , sv))"
   ]
  },
  {
   "cell_type": "markdown",
   "metadata": {},
   "source": [
    "### 3. задатак\n",
    "Написати програм у коме се уноси три броја и исписује број, квадрат, куб и корен у облику:<br>\n",
    "![](slike/brkvkubkoren.png)"
   ]
  },
  {
   "cell_type": "code",
   "execution_count": 13,
   "metadata": {
    "collapsed": false
   },
   "outputs": [
    {
     "name": "stdout",
     "output_type": "stream",
     "text": [
      "Unesite prvi broj 6\n",
      "Unesite drugi broj 4\n",
      "Unesite treći broj 8\n",
      "\n",
      "BROJ     KVADRAT     KUB        KOREN\n",
      "======================================\n",
      " 6\t   36\t     216\t2.45\n",
      " 4\t   16\t      96\t2.00\n",
      " 8\t   64\t     512\t2.83\n"
     ]
    }
   ],
   "source": [
    "import math\n",
    "br1 = int(input('Unesite prvi broj '))\n",
    "br2 = int(input('Unesite drugi broj '))\n",
    "br3 = int(input('Unesite treći broj '))\n",
    "print('\\nBROJ     KVADRAT     KUB        KOREN')\n",
    "print('======================================')\n",
    "print(' {}\\t{:5}\\t{:8}\\t{:.2f}' .format(br1, br1*br1, br1*br1*br1, math.sqrt(br1)))\n",
    "print(' {}\\t{:5}\\t{:8}\\t{:.2f}' .format(br2, br2*br2, br1*br2*br2, math.sqrt(br2)))\n",
    "print(' {}\\t{:5}\\t{:8}\\t{:.2f}' .format(br3, br3*br3, br3*br3*br3, math.sqrt(br3)))"
   ]
  },
  {
   "cell_type": "code",
   "execution_count": null,
   "metadata": {
    "collapsed": true
   },
   "outputs": [],
   "source": []
  }
 ],
 "metadata": {
  "kernelspec": {
   "display_name": "Python 3",
   "language": "python",
   "name": "python3"
  },
  "language_info": {
   "codemirror_mode": {
    "name": "ipython",
    "version": 3
   },
   "file_extension": ".py",
   "mimetype": "text/x-python",
   "name": "python",
   "nbconvert_exporter": "python",
   "pygments_lexer": "ipython3",
   "version": "3.6.0"
  }
 },
 "nbformat": 4,
 "nbformat_minor": 2
}
